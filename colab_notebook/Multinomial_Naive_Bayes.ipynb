{
  "nbformat": 4,
  "nbformat_minor": 0,
  "metadata": {
    "colab": {
      "name": "Untitled1.ipynb",
      "provenance": [],
      "collapsed_sections": []
    },
    "kernelspec": {
      "name": "python3",
      "display_name": "Python 3"
    },
    "language_info": {
      "name": "python"
    }
  },
  "cells": [
    {
      "cell_type": "code",
      "metadata": {
        "colab": {
          "base_uri": "https://localhost:8080/"
        },
        "id": "DGOVdlqpxfSr",
        "outputId": "c3060185-0e61-4c0d-cec6-100847d1910e"
      },
      "source": [
        "\n",
        "import pandas as pd\n",
        "import numpy as np\n",
        "import string\n",
        "import itertools\n",
        "import re\n",
        "import nltk\n",
        "nltk.download('stopwords')\n",
        "from nltk.corpus import stopwords\n",
        "# from sklearn.linear_model import PassiveAggressiveClassifier,LogisticRegression\n",
        "from sklearn.naive_bayes import MultinomialNB\n",
        "from sklearn import metrics\n",
        "from sklearn.metrics import classification_report\n",
        "from sklearn.feature_extraction.text import TfidfVectorizer\n",
        "from sklearn.metrics import precision_score, recall_score\n",
        "from sklearn.model_selection import train_test_split\n",
        "import matplotlib.pyplot as plt\n",
        "import pickle\n",
        "import joblib"
      ],
      "execution_count": null,
      "outputs": [
        {
          "output_type": "stream",
          "text": [
            "[nltk_data] Downloading package stopwords to /root/nltk_data...\n",
            "[nltk_data]   Unzipping corpora/stopwords.zip.\n"
          ],
          "name": "stdout"
        }
      ]
    },
    {
      "cell_type": "markdown",
      "metadata": {
        "id": "iEdUzgKk2XP8"
      },
      "source": [
        "ClickBait\n"
      ]
    },
    {
      "cell_type": "code",
      "metadata": {
        "colab": {
          "base_uri": "https://localhost:8080/"
        },
        "id": "eklFpr7e2ats",
        "outputId": "58ce03ab-4492-4189-faf3-986361fcdb9d"
      },
      "source": [
        "data=pd.read_csv('/content/clickbait_data.csv')\n",
        "print(data.head(10))"
      ],
      "execution_count": null,
      "outputs": [
        {
          "output_type": "stream",
          "text": [
            "                                            headline  clickbait\n",
            "0                                 Should I Get Bings          1\n",
            "1      Which TV Female Friend Group Do You Belong In          1\n",
            "2  The New \"Star Wars: The Force Awakens\" Trailer...          1\n",
            "3  This Vine Of New York On \"Celebrity Big Brothe...          1\n",
            "4  A Couple Did A Stunning Photo Shoot With Their...          1\n",
            "5  How To Flirt With Queer Girls Without Making A...          1\n",
            "6  32 Cute Things To Distract From Your Awkward T...          1\n",
            "7             If Disney Princesses Were From Florida          1\n",
            "8  What's A Quote Or Lyric That Best Describes Yo...          1\n",
            "9  Natalie Dormer And Sam Claflin Play A Game To ...          1\n"
          ],
          "name": "stdout"
        }
      ]
    },
    {
      "cell_type": "code",
      "metadata": {
        "id": "BKHKTsiJ2_sd",
        "colab": {
          "base_uri": "https://localhost:8080/"
        },
        "outputId": "d405d1fa-75b3-4818-c296-f440011baf46"
      },
      "source": [
        "stop=set(stopwords.words('english'))\n",
        "stop.update(list(string.punctuation))\n",
        "print(stop)\n",
        "print(data.head(5))\n"
      ],
      "execution_count": null,
      "outputs": [
        {
          "output_type": "stream",
          "text": [
            "{'shouldn', '&', 'have', 'or', 'hasn', 'be', '>', '~', 'than', 'its', 'should', \"didn't\", 'in', \"you've\", \"haven't\", 'here', 'any', 'both', '\\\\', 'those', 'we', 've', 'himself', \"she's\", \"that'll\", 'few', 'theirs', 'not', 'off', 'more', 'against', 'weren', 'it', 'again', 'the', 'isn', '*', '<', \"shouldn't\", 'no', 'further', 'him', 'is', 'don', 'herself', 'as', 'ma', \"hadn't\", '\"', '=', 'couldn', 're', 'ours', 'because', 'after', 'once', '(', '{', 'just', 'myself', 'our', 'ain', 'i', 'each', '}', 'had', 'mustn', 'yours', 'shan', 'what', 'but', 'itself', 'does', 'so', '.', 'from', '!', 'some', \"mightn't\", 'nor', 'won', '-', 'only', 'y', 'by', 'about', 'd', 'on', \"aren't\", 'o', '/', 'doesn', 'for', 'until', 'into', '#', '@', 'hers', \"it's\", 'whom', '+', 'he', 'of', 'if', \"doesn't\", 'an', 'to', 's', 't', 'mightn', '`', 'while', \"isn't\", \"mustn't\", 'needn', 'under', 'their', \"couldn't\", 'how', 'do', 'themselves', 'other', '_', '|', 'this', 'she', 'and', 'am', 'having', \"don't\", \"should've\", ',', 'ourselves', 'too', 'll', 'over', 'where', ':', 'your', 'that', 'her', 'up', '^', 'his', '[', 'there', 'can', '%', 'above', 'same', \"hasn't\", \"you're\", 'between', 'aren', 'when', 'during', \"you'd\", 'before', 'these', 'were', 'been', '$', 'through', ']', 'me', 'my', 'was', 'at', 'you', 'has', 'who', ';', 'yourselves', 'a', 'will', \"weren't\", 'are', 'being', 'haven', 'most', 'with', 'yourself', 'very', \"won't\", ')', 'why', \"wouldn't\", '?', 'wasn', 'doing', 'out', 'they', 'down', 'wouldn', 'didn', 'now', \"'\", 'did', 'such', 'm', 'all', \"needn't\", 'own', 'below', \"shan't\", 'which', \"you'll\", 'then', 'them', \"wasn't\", 'hadn'}\n",
            "                                            headline  clickbait\n",
            "0                                 Should I Get Bings          1\n",
            "1      Which TV Female Friend Group Do You Belong In          1\n",
            "2  The New \"Star Wars: The Force Awakens\" Trailer...          1\n",
            "3  This Vine Of New York On \"Celebrity Big Brothe...          1\n",
            "4  A Couple Did A Stunning Photo Shoot With Their...          1\n"
          ],
          "name": "stdout"
        }
      ]
    },
    {
      "cell_type": "markdown",
      "metadata": {
        "id": "kCCd62TjoYKN"
      },
      "source": [
        "Cleaning the Data by removing punctuations, Stopwords and Special Characters"
      ]
    },
    {
      "cell_type": "code",
      "metadata": {
        "id": "JNIbiQwY5zSc",
        "colab": {
          "base_uri": "https://localhost:8080/"
        },
        "outputId": "94cce068-8081-4599-999b-55305bc194c1"
      },
      "source": [
        "finaldata=pd.read_csv('/content/clickbait_data.csv')\n",
        "\n",
        "#shuffle the rows\n",
        "finaldata=finaldata.sample(frac=1)\n",
        "\n",
        "#Removing Null Rows\n",
        "finaldata.dropna(subset=['headline','clickbait'],inplace=True)\n",
        "\n",
        "#Converting to lower case\n",
        "finaldata['headline']=finaldata['headline'].str.lower()\n",
        "\n",
        "#Filtering the data to remove stopwords and punctuation\n",
        "for j in range(len(finaldata['headline'])):\n",
        "  temp=''\n",
        "  for i in finaldata['headline'][j].split():\n",
        "    if i.strip() not in stop:\n",
        "      temp=temp+\" \"+i.strip()\n",
        "  finaldata['headline'][j]=temp\n",
        "\n",
        "#Removing Special Characters\n",
        "spec_chars = [\"-\",\"!\",'\"',\"#\",\"%\",\"&\",\"'\",\"(\",\")\",\"*\",\"+\",\",\",\"-\",\".\",\"/\",\":\",\";\",\"<\",\"=\",\">\",\"?\",\"@\",\"[\",\"\\\\\",\"]\",\"^\",\"_\",\"`\",\"{\",\"|\",\"}\",\"~\",\"–\"]\n",
        "for char in spec_chars:\n",
        "    finaldata['headline'] = finaldata['headline'].str.replace(char, '')\n",
        "\n",
        "print(\"Original File:\")\n",
        "print(data.head(5))\n",
        "print(\"Filtered Data:\")\n",
        "print(finaldata.head(5))"
      ],
      "execution_count": null,
      "outputs": [
        {
          "output_type": "stream",
          "text": [
            "/usr/local/lib/python3.7/dist-packages/ipykernel_launcher.py:18: SettingWithCopyWarning: \n",
            "A value is trying to be set on a copy of a slice from a DataFrame\n",
            "\n",
            "See the caveats in the documentation: https://pandas.pydata.org/pandas-docs/stable/user_guide/indexing.html#returning-a-view-versus-a-copy\n"
          ],
          "name": "stderr"
        },
        {
          "output_type": "stream",
          "text": [
            "Original File:\n",
            "                                            headline  clickbait\n",
            "0                                 Should I Get Bings          1\n",
            "1      Which TV Female Friend Group Do You Belong In          1\n",
            "2  The New \"Star Wars: The Force Awakens\" Trailer...          1\n",
            "3  This Vine Of New York On \"Celebrity Big Brothe...          1\n",
            "4  A Couple Did A Stunning Photo Shoot With Their...          1\n",
            "Filtered Data:\n",
            "                                                headline  clickbait\n",
            "4154              male rapper soulmate based zodiac sign          1\n",
            "23930       9 police officers killed taliban afghanistan          0\n",
            "15545     15 painful truths mal canadian french speakers          1\n",
            "31828   report indicates texas state parks still suff...          0\n",
            "4755    someone redid star wars force awakens trailer...          1\n"
          ],
          "name": "stdout"
        }
      ]
    },
    {
      "cell_type": "code",
      "metadata": {
        "id": "FpiMPPk6_kZN"
      },
      "source": [
        "X_train, X_test, y_train, y_test = train_test_split(finaldata['headline'], finaldata['clickbait'],test_size=0.2, random_state=0)"
      ],
      "execution_count": null,
      "outputs": []
    },
    {
      "cell_type": "markdown",
      "metadata": {
        "id": "RZTmOGXXoSkj"
      },
      "source": [
        "Using TFIDF Vectorizer"
      ]
    },
    {
      "cell_type": "code",
      "metadata": {
        "id": "OgZhvukG9kke"
      },
      "source": [
        "tfidf_vectorizer = TfidfVectorizer(stop_words='english', ngram_range=(1,2))\n",
        "tfidf_train = tfidf_vectorizer.fit_transform(X_train)\n",
        "tfidf_test = tfidf_vectorizer.transform(X_test)"
      ],
      "execution_count": null,
      "outputs": []
    },
    {
      "cell_type": "code",
      "metadata": {
        "id": "dPG2pHzTNALD"
      },
      "source": [
        "def wordopt(text):\n",
        "    text = text.lower()\n",
        "    text = re.sub('\\[.*?\\]', '', text)\n",
        "    text = re.sub(\"\\\\W\",\" \",text) \n",
        "    text = re.sub('https?://\\S+|www\\.\\S+', '', text)\n",
        "    text = re.sub('<.*?>+', '', text)\n",
        "    text = re.sub('[%s]' % re.escape(string.punctuation), '', text)\n",
        "    text = re.sub('\\n', '', text)\n",
        "    text = re.sub('\\w*\\d\\w*', '', text)\n",
        "    text=text.strip()\n",
        "    return text\n"
      ],
      "execution_count": null,
      "outputs": []
    },
    {
      "cell_type": "markdown",
      "metadata": {
        "id": "FatgHLZkoOAw"
      },
      "source": [
        "Creating the MultinomialNB model"
      ]
    },
    {
      "cell_type": "code",
      "metadata": {
        "id": "lpGmO_QAFTY7",
        "colab": {
          "base_uri": "https://localhost:8080/"
        },
        "outputId": "6023685e-24a9-419f-af62-e19342f3c14d"
      },
      "source": [
        "mnb_tf = MultinomialNB()\n",
        "mnb_tf.fit(tfidf_train, y_train)\n",
        "pred = mnb_tf.predict(tfidf_test)\n",
        "score = metrics.accuracy_score(y_test, pred)\n",
        "cm = metrics.confusion_matrix(y_test, pred, labels=[1, 0])\n",
        "print('Confusion Matrix : \\n',cm)\n",
        "matrix = classification_report(y_test,pred,labels=[1,0])\n",
        "print('Classification report : \\n',matrix)"
      ],
      "execution_count": null,
      "outputs": [
        {
          "output_type": "stream",
          "text": [
            "Confusion Matrix : \n",
            " [[3133  112]\n",
            " [ 138 3017]]\n",
            "Classification report : \n",
            "               precision    recall  f1-score   support\n",
            "\n",
            "           1       0.96      0.97      0.96      3245\n",
            "           0       0.96      0.96      0.96      3155\n",
            "\n",
            "    accuracy                           0.96      6400\n",
            "   macro avg       0.96      0.96      0.96      6400\n",
            "weighted avg       0.96      0.96      0.96      6400\n",
            "\n"
          ],
          "name": "stdout"
        }
      ]
    },
    {
      "cell_type": "markdown",
      "metadata": {
        "id": "IAidK9ZuoDeG"
      },
      "source": [
        "Saving the Model"
      ]
    },
    {
      "cell_type": "code",
      "metadata": {
        "id": "SBHPmGf9hGr6"
      },
      "source": [
        "pickle.dump(tfidf_vectorizer,open('vectorizer.pkl','wb'))\n",
        "pickle.dump(mnb_tf, open('clickbait_model.pkl','wb'))"
      ],
      "execution_count": null,
      "outputs": []
    },
    {
      "cell_type": "markdown",
      "metadata": {
        "id": "oOpG5E7KoHDP"
      },
      "source": [
        "Predicting Using Saved Model"
      ]
    },
    {
      "cell_type": "code",
      "metadata": {
        "id": "RkfndRsAoKDX",
        "colab": {
          "base_uri": "https://localhost:8080/"
        },
        "outputId": "8ad2e64e-82c6-4ec0-ea2e-3e27159ff8e7"
      },
      "source": [
        "md_from_joblib = joblib.load('clickbait_model.pkl')\n",
        "sample=\"US offers to eliminate duties on Cotton, Africa says it's not enough\"\n",
        "tfidf_vectorizer=joblib.load('vectorizer.pkl')\n",
        "md_from_joblib.predict(tfidf_vectorizer.transform([wordopt(sample)]))\n"
      ],
      "execution_count": null,
      "outputs": [
        {
          "output_type": "execute_result",
          "data": {
            "text/plain": [
              "array([0])"
            ]
          },
          "metadata": {
            "tags": []
          },
          "execution_count": 18
        }
      ]
    }
  ]
}